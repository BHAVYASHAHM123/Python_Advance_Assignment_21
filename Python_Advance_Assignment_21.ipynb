{
  "cells": [
    {
      "cell_type": "markdown",
      "id": "9b417891",
      "metadata": {
        "id": "9b417891"
      },
      "source": [
        "Q1). What is a probability distribution, exactly? If the values are meant to be random, how can you predict them at all?\n",
        "\n",
        "Ans) A probability distribution describes how a random variable is distributed,it tells us which values a random variable is most likely to take on and which values are less likely.Based on the previous data and the occurences of the random event, we can predict the outcome in terms of probabilities."
      ]
    },
    {
      "cell_type": "markdown",
      "id": "ad9f1695",
      "metadata": {
        "id": "ad9f1695"
      },
      "source": [
        "Q2). Is there a distinction between true random numbers and pseudo-random numbers, if there is one? Why are the latter considered “good enough”?\n",
        "\n",
        "Ans)The difference between true random number(TRN) and pseudo-random number(PRN), is that TRN's are unpredictable physical values means (like atmospheric noise), and PRN are generated using mathematical algorithms (completelycomputer-generated).The PRN's are good enough as they follow a uniform distribution and the seed for generating PRN is unpredictable and unknown.\n",
        "\n",
        " A normal distribution is determined by two parameters the mean and the variance. A normal distribution with a \n",
        "       mean of 0 and a standard deviation of 1 is called a standard normal distribution."
      ]
    },
    {
      "cell_type": "markdown",
      "id": "4cb01082",
      "metadata": {
        "id": "4cb01082"
      },
      "source": [
        "Q4). Provide a real-life example of a normal distribution.\n",
        "\n",
        "Ans)  A fair rolling of dice is also a good example of normal distribution."
      ]
    },
    {
      "cell_type": "markdown",
      "id": "bf1c191d",
      "metadata": {
        "id": "bf1c191d"
      },
      "source": [
        "Q5). In the short term, how can you expect a probability distribution to behave? What do you think will happen as the number of trials grows?\n",
        "\n",
        "Ans) When trails are less, the variance will large. As the number of trials increase , the variance will reduce."
      ]
    },
    {
      "cell_type": "markdown",
      "id": "4831561d",
      "metadata": {
        "id": "4831561d"
      },
      "source": [
        "Q6). What kind of object can be shuffled by using random.shuffle?\n",
        "\n",
        "Ans)  random.shuffle can used to shuffle list object"
      ]
    },
    {
      "cell_type": "markdown",
      "id": "c2c20dbf",
      "metadata": {
        "id": "c2c20dbf"
      },
      "source": [
        "Q7). Describe the math package&#39;s general categories of functions.\n",
        "\n",
        " Ans)The general categories of math package are\n",
        "1) Trigonometric functions\n",
        "2)Quadratic functions\n",
        "3)Exponential functions\n",
        "4)Hyperbolic functions\n",
        "5)Periodic functions\n",
        "6)Arithmetic functions\n",
        "7)Logarithimic functions\n",
        "8)Conversions to Integer"
      ]
    },
    {
      "cell_type": "code",
      "execution_count": null,
      "id": "8409d368",
      "metadata": {
        "id": "8409d368"
      },
      "outputs": [],
      "source": [
        ""
      ]
    },
    {
      "cell_type": "markdown",
      "id": "33d74bf0",
      "metadata": {
        "id": "33d74bf0"
      },
      "source": [
        "Q8). What is the relationship between exponentiation and logarithms?\n",
        "\n",
        "Ans) The exponential function is given by ƒ(x) = ex, whereas the logarithmic function is given by g(x) = ln x, and  former is the inverse of the latter."
      ]
    },
    {
      "cell_type": "markdown",
      "id": "403ee283",
      "metadata": {
        "id": "403ee283"
      },
      "source": [
        "Q9. What are the three logarithmic functions that Python supports?\n",
        "\n",
        "Ans)\n",
        "1)log2(x) - logarithmic value of x to base 2\n",
        "2)log10(x) - logarithmic value of x to base 10\n",
        "3)log(x,base) - logarithmic value of x to base. If only first parameter is given , it computes its value tp base e,natural logarithm\n",
        "4)log1p(x) - natural logarithm (base e) value of 1+x"
      ]
    },
    {
      "cell_type": "code",
      "execution_count": null,
      "id": "8790f799",
      "metadata": {
        "id": "8790f799"
      },
      "outputs": [],
      "source": [
        ""
      ]
    }
  ],
  "metadata": {
    "kernelspec": {
      "display_name": "Python 3",
      "language": "python",
      "name": "python3"
    },
    "language_info": {
      "codemirror_mode": {
        "name": "ipython",
        "version": 3
      },
      "file_extension": ".py",
      "mimetype": "text/x-python",
      "name": "python",
      "nbconvert_exporter": "python",
      "pygments_lexer": "ipython3",
      "version": "3.8.8"
    },
    "colab": {
      "name": "Python_Advance_Assignment_21.ipynb",
      "provenance": []
    }
  },
  "nbformat": 4,
  "nbformat_minor": 5
}